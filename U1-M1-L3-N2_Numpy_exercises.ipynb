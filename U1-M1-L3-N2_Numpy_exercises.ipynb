{
 "cells": [
  {
   "cell_type": "markdown",
   "metadata": {},
   "source": [
    "Before you turn this problem in, make sure everything runs as expected. First, **restart the kernel** (in the menubar, select Kernel$\\rightarrow$Restart) and then **run all cells** (in the menubar, select Cell$\\rightarrow$Run All).\n",
    "\n",
    "Make sure you fill in any place that says `YOUR CODE HERE` or \"YOUR ANSWER HERE\", as well as your name and group below:"
   ]
  },
  {
   "cell_type": "code",
   "execution_count": null,
   "metadata": {},
   "outputs": [],
   "source": [
    "COURSE = \"StatModels_2020_q3\"\n",
    "GROUP = \"\" # Either D2A or D2B\n",
    "NAME = \"\" # Match your GitHub Classroom ID"
   ]
  },
  {
   "cell_type": "markdown",
   "metadata": {},
   "source": [
    "---"
   ]
  },
  {
   "cell_type": "markdown",
   "metadata": {},
   "source": [
    "###### (2020) Gonzalo G. Peraza Mues"
   ]
  },
  {
   "cell_type": "markdown",
   "metadata": {},
   "source": [
    "# Numpy Exercises"
   ]
  },
  {
   "cell_type": "markdown",
   "metadata": {},
   "source": [
    "In this complementary notebook to the lesson we ask you to complete the following exercises using numpy."
   ]
  },
  {
   "cell_type": "code",
   "execution_count": null,
   "metadata": {},
   "outputs": [],
   "source": [
    "import numpy as np\n",
    "\n",
    "# We need a vector\n",
    "x = np.array([1, 2, 3, 4, 5])\n",
    "# And a matrix\n",
    "m = np.array([[1, 2, 3],[4, 5, 6,], [7, 8, 9]])"
   ]
  },
  {
   "cell_type": "markdown",
   "metadata": {},
   "source": [
    "A common operation you'll want to do with\n",
    "vectors or matrices is adding every element. \n",
    "The notation can look scary but it's actually \n",
    "pretty simple:\n",
    "$$\n",
    "\\sum_{i,j = 1}^n m_{ij}\n",
    "$$\n",
    "The $\\Sigma$ symbol is a capital $\\sigma$\n",
    "symbol and is called \"sigma\". It means for some matrix $m$, where $i$ represents a row and $j$ represents a column, add every element. $n$ refers to the number of elements in the variable $m$.\n",
    "\n",
    "Although you can implement this operation using a for loop, NumPy makes it easy by providing a `sum` method.\n",
    "\n",
    "Try implementing it now `m.sum()`."
   ]
  },
  {
   "cell_type": "code",
   "execution_count": null,
   "metadata": {
    "deletable": false,
    "nbgrader": {
     "cell_type": "code",
     "checksum": "fc396b67174a94b517bbd0504ec6d062",
     "grade": false,
     "grade_id": "cell-5d4dc90f4acbb3fb",
     "locked": false,
     "schema_version": 3,
     "solution": true,
     "task": false
    }
   },
   "outputs": [],
   "source": [
    "# YOUR CODE HERE\n",
    "raise NotImplementedError()"
   ]
  },
  {
   "cell_type": "markdown",
   "metadata": {},
   "source": [
    "Another common operation is multiplying each \n",
    "value in a vector or matrix. This looks like \n",
    "this:\n",
    "$$\n",
    "\\prod_{i,j=1}^n m_{ij}\n",
    "$$\n",
    "\n",
    "The $\\Pi$ symbol is a capital $\\pi$ symbol, pronounced \"pi\". Implement this equation similarly using the `prod` function."
   ]
  },
  {
   "cell_type": "code",
   "execution_count": null,
   "metadata": {
    "deletable": false,
    "nbgrader": {
     "cell_type": "code",
     "checksum": "97102766b7710161aa27415f6e3d6e88",
     "grade": false,
     "grade_id": "cell-2eb086246d923c4a",
     "locked": false,
     "schema_version": 3,
     "solution": true,
     "task": false
    }
   },
   "outputs": [],
   "source": [
    "# YOUR CODE HERE\n",
    "raise NotImplementedError()"
   ]
  },
  {
   "cell_type": "markdown",
   "metadata": {},
   "source": [
    "Great! Now you're ready to implement some\n",
    "basic equations! Let's start with the \n",
    "arithmetic mean:\n",
    "$$\n",
    "\\bar{x} = \\frac{1}{n}\\times \\sum_{i=1}^n x_i\n",
    "$$\n",
    "\n",
    "This simply means adding every element of a \n",
    "list and dividing the result by the number of \n",
    "elements in $x$. A bar over a variable ($\\bar{x}$) refers to a type of mean.\n",
    "\n",
    "**Hint:** You can get the number of elements \n",
    "in an array in NumPy with `x.size`."
   ]
  },
  {
   "cell_type": "code",
   "execution_count": null,
   "metadata": {
    "deletable": false,
    "nbgrader": {
     "cell_type": "code",
     "checksum": "c497107609088c8bfd658bee6c7205ae",
     "grade": false,
     "grade_id": "cell-3d867ae3bcaefbfc",
     "locked": false,
     "schema_version": 3,
     "solution": true,
     "task": false
    }
   },
   "outputs": [],
   "source": [
    "# You must return this variable correctly\n",
    "mean = 0\n",
    "\n",
    "# YOUR CODE HERE\n",
    "raise NotImplementedError()\n",
    "\n",
    "print(f'You found the mean to be {mean}, it shoulb be 3.0')"
   ]
  },
  {
   "cell_type": "code",
   "execution_count": null,
   "metadata": {
    "deletable": false,
    "editable": false,
    "nbgrader": {
     "cell_type": "code",
     "checksum": "6138c852a31e3349ef96ed326b69c4e3",
     "grade": true,
     "grade_id": "cell-1a06ad58dfb989fe",
     "locked": true,
     "points": 1,
     "schema_version": 3,
     "solution": false,
     "task": false
    }
   },
   "outputs": [],
   "source": []
  },
  {
   "cell_type": "markdown",
   "metadata": {},
   "source": [
    "Good job! Now let's implement something known \n",
    "as the Frobenius norm:\n",
    "$$\n",
    "\\Vert m \\Vert_F = \\left(\n",
    "    \\sum_{i,j=1}^n m_{ij}^2\n",
    "    \\right)^{1/2}\n",
    "$$\n",
    "\n",
    "**Hint:** You can implement this a number of \n",
    "ways, using operators (`**`),  functions (`np.sqrt`), and methods (`.sum`)."
   ]
  },
  {
   "cell_type": "code",
   "execution_count": null,
   "metadata": {
    "deletable": false,
    "nbgrader": {
     "cell_type": "code",
     "checksum": "2dc5626aacf7e2da40e00680cfeb044e",
     "grade": false,
     "grade_id": "cell-be7bfeba5b0e4093",
     "locked": false,
     "schema_version": 3,
     "solution": true,
     "task": false
    }
   },
   "outputs": [],
   "source": [
    "# You must return this variable correctly\n",
    "f_norm = 0\n",
    "\n",
    "# YOUR CODE HERE\n",
    "raise NotImplementedError()\n",
    "\n",
    "print(f'You found f_norm to be {round(f_norm, 4)}, it shoulb be 16.8819')"
   ]
  },
  {
   "cell_type": "code",
   "execution_count": null,
   "metadata": {
    "deletable": false,
    "editable": false,
    "nbgrader": {
     "cell_type": "code",
     "checksum": "97b4539c426d7b24ee22ddaa38cde90e",
     "grade": true,
     "grade_id": "cell-e2cff00b0b0aa8f1",
     "locked": true,
     "points": 2,
     "schema_version": 3,
     "solution": false,
     "task": false
    }
   },
   "outputs": [],
   "source": []
  },
  {
   "cell_type": "markdown",
   "metadata": {},
   "source": [
    "Perfect! Now for your final challenge, let's\n",
    "implement standard deviation:\n",
    "$$\n",
    "\\sqrt{\\frac{1}{n-1}\\sum_{i=1}^n (x_i - \\bar{x})^2}\n",
    "$$\n",
    "\n",
    "Remember that $\\bar{x}$ refers to the\n",
    "arithmetic mean of $x$.\n",
    "Instead of implementing it from scratch,\n",
    "you can simply call `x.mean()`.\n"
   ]
  },
  {
   "cell_type": "code",
   "execution_count": null,
   "metadata": {
    "deletable": false,
    "nbgrader": {
     "cell_type": "code",
     "checksum": "22c25469251ebcb4b9296d0f81b45785",
     "grade": false,
     "grade_id": "cell-16451545cc244d1a",
     "locked": false,
     "schema_version": 3,
     "solution": true,
     "task": false
    }
   },
   "outputs": [],
   "source": [
    "# You must return this variable correctly\n",
    "sd = 0\n",
    "\n",
    "# YOUR CODE HERE\n",
    "raise NotImplementedError()\n",
    "\n",
    "print(f'You found sd to be {round(sd, 4)}, it shoulb be 1.5811')"
   ]
  },
  {
   "cell_type": "code",
   "execution_count": null,
   "metadata": {
    "deletable": false,
    "editable": false,
    "nbgrader": {
     "cell_type": "code",
     "checksum": "ec59614d7773e0dcaabb220026ef9f46",
     "grade": true,
     "grade_id": "cell-61458c1832342c7c",
     "locked": true,
     "points": 2,
     "schema_version": 3,
     "solution": false,
     "task": false
    }
   },
   "outputs": [],
   "source": []
  },
  {
   "cell_type": "markdown",
   "metadata": {},
   "source": [
    "## References\n",
    "- Adapted from: https://mathtocode.com/ by Vernon Thommeret"
   ]
  }
 ],
 "metadata": {
  "kernelspec": {
   "display_name": "Python 3",
   "language": "python",
   "name": "python3"
  },
  "language_info": {
   "codemirror_mode": {
    "name": "ipython",
    "version": 3
   },
   "file_extension": ".py",
   "mimetype": "text/x-python",
   "name": "python",
   "nbconvert_exporter": "python",
   "pygments_lexer": "ipython3",
   "version": "3.8.3"
  }
 },
 "nbformat": 4,
 "nbformat_minor": 2
}
